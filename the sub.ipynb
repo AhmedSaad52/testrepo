{
 "cells": [
  {
   "cell_type": "code",
   "execution_count": 2,
   "id": "e515fc85",
   "metadata": {},
   "outputs": [],
   "source": [
    "import pandas as pd\n",
    "import matplotlib.pyplot as plt"
   ]
  },
  {
   "cell_type": "code",
   "execution_count": 4,
   "id": "bbf5df5c",
   "metadata": {},
   "outputs": [
    {
     "name": "stdout",
     "output_type": "stream",
     "text": [
      "please enter the data linkC:\\\\Users\\\\LAPTOP\\\\Downloads\\\\final python master\\\\International_Report_Departures.csv\n",
      "['C:\\\\\\\\Users\\\\\\\\LAPTOP\\\\\\\\Downloads\\\\\\\\final python master\\\\\\\\International_Report_Departures', 'csv']\n",
      "csv\n"
     ]
    }
   ],
   "source": [
    "# to get path\n",
    "try:\n",
    "    d=input('please enter the data link')\n",
    "    d1=d.split('.')\n",
    "    print(d1)\n",
    "    d1=d1[-1]\n",
    "    print(d1)\n",
    "    if d1=='sql':\n",
    "        df=pd.read_sql(d)\n",
    "    elif d1=='csv':\n",
    "        df=pd.read_csv(d)\n",
    "    elif d1=='xsl':\n",
    "        df=pd.read_excel(d)\n",
    "    else :\n",
    "        print('there is some thing wrong please try again')\n",
    "except FileNotFoundError:\n",
    "    print('file not found')"
   ]
  },
  {
   "cell_type": "code",
   "execution_count": 5,
   "id": "24157671",
   "metadata": {},
   "outputs": [],
   "source": [
    "# to know the data\n",
    "def know_the_data(df):\n",
    "    print('The coulmns\\n')\n",
    "    print(df.columns)\n",
    "    print('\\n')\n",
    "    print('the types of coulmns\\n')\n",
    "    print(df.dtypes)\n",
    "    print('\\n')\n",
    "    print('the dimentions\\n')\n",
    "    print(df.shape)\n",
    "    print('\\n')\n",
    "    print('The decripe of numerical data\\n')\n",
    "    print(df.describe())"
   ]
  },
  {
   "cell_type": "code",
   "execution_count": 6,
   "id": "c4b5bce9",
   "metadata": {},
   "outputs": [
    {
     "name": "stdout",
     "output_type": "stream",
     "text": [
      "The coulmns\n",
      "\n",
      "Index(['data_dte', 'Year', 'Month', 'usg_apt_id', 'usg_apt', 'usg_wac',\n",
      "       'fg_apt_id', 'fg_apt', 'fg_wac', 'airlineid', 'carrier', 'carriergroup',\n",
      "       'type', 'Scheduled', 'Charter', 'Total'],\n",
      "      dtype='object')\n",
      "\n",
      "\n",
      "the types of coulmns\n",
      "\n",
      "data_dte        object\n",
      "Year             int64\n",
      "Month            int64\n",
      "usg_apt_id       int64\n",
      "usg_apt         object\n",
      "usg_wac          int64\n",
      "fg_apt_id        int64\n",
      "fg_apt          object\n",
      "fg_wac           int64\n",
      "airlineid        int64\n",
      "carrier         object\n",
      "carriergroup     int64\n",
      "type            object\n",
      "Scheduled        int64\n",
      "Charter          int64\n",
      "Total            int64\n",
      "dtype: object\n",
      "\n",
      "\n",
      "the dimentions\n",
      "\n",
      "(930808, 16)\n",
      "\n",
      "\n",
      "The decripe of numerical data\n",
      "\n",
      "                Year          Month     usg_apt_id        usg_wac  \\\n",
      "count  930808.000000  930808.000000  930808.000000  930808.000000   \n",
      "mean     2006.021361       6.414783   12809.473781      42.511740   \n",
      "std         8.558831       3.471070    2716.223845      27.571338   \n",
      "min      1990.000000       1.000000   10010.000000       1.000000   \n",
      "25%      1999.000000       3.000000   11618.000000      22.000000   \n",
      "50%      2007.000000       6.000000   12892.000000      33.000000   \n",
      "75%      2014.000000       9.000000   13487.000000      72.000000   \n",
      "max      2020.000000      12.000000   99999.000000      93.000000   \n",
      "\n",
      "           fg_apt_id         fg_wac      airlineid   carriergroup  \\\n",
      "count  930808.000000  930808.000000  930808.000000  930808.000000   \n",
      "mean    13484.676238     466.910479   20057.217505       0.599361   \n",
      "std      1932.601107     288.005971     479.071456       0.490028   \n",
      "min     10119.000000     106.000000   19386.000000       0.000000   \n",
      "25%     11868.000000     205.000000   19704.000000       0.000000   \n",
      "50%     13408.000000     427.000000   19991.000000       1.000000   \n",
      "75%     15084.000000     736.000000   20312.000000       1.000000   \n",
      "max     16881.000000     975.000000   22067.000000       1.000000   \n",
      "\n",
      "           Scheduled        Charter          Total  \n",
      "count  930808.000000  930808.000000  930808.000000  \n",
      "mean       40.003181       2.005483      42.008665  \n",
      "std        60.948973       8.278403      60.340835  \n",
      "min         0.000000       0.000000       1.000000  \n",
      "25%         0.000000       0.000000       3.000000  \n",
      "50%        17.000000       0.000000      20.000000  \n",
      "75%        60.000000       1.000000      60.000000  \n",
      "max      2019.000000    1092.000000    2019.000000  \n"
     ]
    }
   ],
   "source": [
    "know_the_data(df)"
   ]
  },
  {
   "cell_type": "code",
   "execution_count": 7,
   "id": "d351e628",
   "metadata": {},
   "outputs": [],
   "source": [
    "# to remove the nulls\n",
    "def remove_nulls(df):    \n",
    "    for i in df.columns:\n",
    "        if df[i].isna().sum()==0:\n",
    "            print(str(i)+' has no null\\n')\n",
    "        elif df[i].isna().sum()< (len(df)/5):\n",
    "            print(str(i)+' has a small null percentage we will drop it')\n",
    "            df[i].dropna(inplace=True)\n",
    "        else:\n",
    "            print('the '+str(i)+ 'has a nun values')\n",
    "            if df[i].dtypes=='object':\n",
    "                print(str(i)+' has a nulls and will replaced')\n",
    "                df.fillna(value=df[i].mode()[0], inplace=True)\n",
    "            else :\n",
    "                print(str(i)+' has a nulls and will replaced')\n",
    "                df.fillna(value=df[i].mean(), inplace=True)"
   ]
  },
  {
   "cell_type": "code",
   "execution_count": 8,
   "id": "2ec1226d",
   "metadata": {},
   "outputs": [
    {
     "name": "stdout",
     "output_type": "stream",
     "text": [
      "data_dte has no null\n",
      "\n",
      "Year has no null\n",
      "\n",
      "Month has no null\n",
      "\n",
      "usg_apt_id has no null\n",
      "\n",
      "usg_apt has no null\n",
      "\n",
      "usg_wac has no null\n",
      "\n",
      "fg_apt_id has no null\n",
      "\n",
      "fg_apt has no null\n",
      "\n",
      "fg_wac has no null\n",
      "\n",
      "airlineid has no null\n",
      "\n",
      "carrier has a small null percentage we will drop it\n",
      "carriergroup has no null\n",
      "\n",
      "type has no null\n",
      "\n",
      "Scheduled has no null\n",
      "\n",
      "Charter has no null\n",
      "\n",
      "Total has no null\n",
      "\n"
     ]
    }
   ],
   "source": [
    "remove_nulls(df)"
   ]
  },
  {
   "cell_type": "code",
   "execution_count": 9,
   "id": "de168726",
   "metadata": {},
   "outputs": [],
   "source": [
    "# to remove duplicates\n",
    "def remove_duplicates(df):    \n",
    "    if df.duplicated().sum()!=0:\n",
    "        print('there is a duplicates we will remove it')\n",
    "        df.drop_duplicates()\n",
    "    else:\n",
    "        print('no duplicates')"
   ]
  },
  {
   "cell_type": "code",
   "execution_count": 10,
   "id": "76e5a0bc",
   "metadata": {},
   "outputs": [
    {
     "name": "stdout",
     "output_type": "stream",
     "text": [
      "no duplicates\n"
     ]
    }
   ],
   "source": [
    "remove_duplicates(df)"
   ]
  },
  {
   "cell_type": "code",
   "execution_count": 11,
   "id": "12e79f99",
   "metadata": {},
   "outputs": [
    {
     "data": {
      "image/png": "[encoded data removed]",
      "text/plain": [
       "<Figure size 432x288 with 1 Axes>"
      ]
     },
     "metadata": {
      "needs_background": "light"
     },
     "output_type": "display_data"
    },
    {
     "data": {
      "image/png": "[encoded data removed]",
      "text/plain": [
       "<Figure size 432x288 with 1 Axes>"
      ]
     },
     "metadata": {
      "needs_background": "light"
     },
     "output_type": "display_data"
    },
    {
     "data": {
      "image/png": "[encoded data removed]",
      "text/plain": [
       "<Figure size 432x288 with 1 Axes>"
      ]
     },
     "metadata": {
      "needs_background": "light"
     },
     "output_type": "display_data"
    }
   ],
   "source": [
    "for i in ['Year','Month','carriergroup']:\n",
    "        plt.figure()\n",
    "        plt.bar(df[i].value_counts().index,df[[i]].value_counts().values)\n",
    "        plt.title(str(i))\n",
    "        plt.show()"
   ]
  },
  {
   "cell_type": "code",
   "execution_count": null,
   "id": "e4a58939",
   "metadata": {},
   "outputs": [],
   "source": []
  },
  {
   "cell_type": "code",
   "execution_count": null,
   "id": "f17fab95",
   "metadata": {},
   "outputs": [],
   "source": []
  }
 ],
 "metadata": {
  "kernelspec": {
   "display_name": "Python 3",
   "language": "python",
   "name": "python3"
  },
  "language_info": {
   "codemirror_mode": {
    "name": "ipython",
    "version": 3
   },
   "file_extension": ".py",
   "mimetype": "text/x-python",
   "name": "python",
   "nbconvert_exporter": "python",
   "pygments_lexer": "ipython3",
   "version": "3.8.8"
  }
 },
 "nbformat": 4,
 "nbformat_minor": 5
}
